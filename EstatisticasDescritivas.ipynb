{
  "nbformat": 4,
  "nbformat_minor": 5,
  "metadata": {
    "kernelspec": {
      "display_name": "Python 3",
      "language": "python",
      "name": "python3"
    },
    "language_info": {
      "codemirror_mode": {
        "name": "ipython",
        "version": 3
      },
      "file_extension": ".py",
      "mimetype": "text/x-python",
      "name": "python",
      "nbconvert_exporter": "python",
      "pygments_lexer": "ipython3",
      "version": "3.8.10"
    },
    "colab": {
      "provenance": [],
      "include_colab_link": true
    }
  },
  "cells": [
    {
      "cell_type": "markdown",
      "metadata": {
        "id": "view-in-github",
        "colab_type": "text"
      },
      "source": [
        "<a href=\"https://colab.research.google.com/github/Guilherm0/Estatisticas-Descritivas/blob/main/EstatisticasDescritivas.ipynb\" target=\"_parent\"><img src=\"https://colab.research.google.com/assets/colab-badge.svg\" alt=\"Open In Colab\"/></a>"
      ]
    },
    {
      "cell_type": "markdown",
      "metadata": {
        "id": "3e62324a-36a8-405f-94a1-78d25362fdd7"
      },
      "source": [
        "# EXEMPLOS DE ESTATÍSTIVA BÁSICA"
      ],
      "id": "3e62324a-36a8-405f-94a1-78d25362fdd7"
    },
    {
      "cell_type": "markdown",
      "metadata": {
        "id": "484481cb-12f9-40f5-adf4-b47f99a76ed6"
      },
      "source": [
        "# 1 CARREGAMENTO DAS BIBLIOTECAS"
      ],
      "id": "484481cb-12f9-40f5-adf4-b47f99a76ed6"
    },
    {
      "cell_type": "code",
      "metadata": {
        "id": "2be594f4-6e49-4da2-9dd4-660ac172bdfa"
      },
      "source": [
        "import pandas as pd\n",
        "import numpy as np\n",
        "import matplotlib.pyplot as plt\n",
        "import seaborn as sns\n",
        "import scipy.stats as stats"
      ],
      "id": "2be594f4-6e49-4da2-9dd4-660ac172bdfa",
      "execution_count": 4,
      "outputs": []
    },
    {
      "cell_type": "markdown",
      "metadata": {
        "tags": [],
        "id": "92c81ed2-36b8-4ce1-a4eb-f2cbd514a0fd"
      },
      "source": [
        "# 2 GERAÇÃO DOS DADOS"
      ],
      "id": "92c81ed2-36b8-4ce1-a4eb-f2cbd514a0fd"
    },
    {
      "cell_type": "code",
      "metadata": {
        "id": "8171cdd5-fb12-46f1-b7c0-c60abb46d733",
        "outputId": "2655d131-3b15-403f-9209-9b84285d383a",
        "colab": {
          "base_uri": "https://localhost:8080/"
        }
      },
      "source": [
        "s1 = pd.Series([7, 7, 6, 2,\t5, 4, 3, 7,\t3, 1, 2, 4, 8, 6, 3, 7, 9, 6, 1, 3])\n",
        "pd.DataFrame.head(s1)"
      ],
      "id": "8171cdd5-fb12-46f1-b7c0-c60abb46d733",
      "execution_count": 3,
      "outputs": [
        {
          "output_type": "execute_result",
          "data": {
            "text/plain": [
              "0    7\n",
              "1    7\n",
              "2    6\n",
              "3    2\n",
              "4    5\n",
              "dtype: int64"
            ]
          },
          "metadata": {},
          "execution_count": 3
        }
      ]
    },
    {
      "cell_type": "code",
      "metadata": {
        "id": "37b4bd8a-a325-47ce-8bfa-d4ccacfd85c9",
        "outputId": "0c00e041-a115-4b26-8488-ac62b8ddd59b",
        "colab": {
          "base_uri": "https://localhost:8080/"
        }
      },
      "source": [
        "s2 = pd.Series([3, 3, 5, 12, 3, 4, 10, 5, 4, 4, 3, 4, 8, 4, 5, 5, 6, 6, 4, 7])\n",
        "pd.DataFrame.head(s2)"
      ],
      "id": "37b4bd8a-a325-47ce-8bfa-d4ccacfd85c9",
      "execution_count": 5,
      "outputs": [
        {
          "output_type": "execute_result",
          "data": {
            "text/plain": [
              "0     3\n",
              "1     3\n",
              "2     5\n",
              "3    12\n",
              "4     3\n",
              "dtype: int64"
            ]
          },
          "metadata": {},
          "execution_count": 5
        }
      ]
    },
    {
      "cell_type": "code",
      "metadata": {
        "id": "341af8c0-4edc-4f37-8b64-2852609d5fb0",
        "outputId": "01f68794-1558-40c2-9e15-621e0c8e0138",
        "colab": {
          "base_uri": "https://localhost:8080/"
        }
      },
      "source": [
        "s3 = pd.Series([7, 7, 7, 8, 8, 7, 7, 7, 4, 8, 7, 8, 8, 9, 8, 8, 7, 9, 8, 8])\n",
        "pd.DataFrame.head(s3)"
      ],
      "id": "341af8c0-4edc-4f37-8b64-2852609d5fb0",
      "execution_count": 6,
      "outputs": [
        {
          "output_type": "execute_result",
          "data": {
            "text/plain": [
              "0    7\n",
              "1    7\n",
              "2    7\n",
              "3    8\n",
              "4    8\n",
              "dtype: int64"
            ]
          },
          "metadata": {},
          "execution_count": 6
        }
      ]
    },
    {
      "cell_type": "markdown",
      "metadata": {
        "id": "7f401ab9-48e8-418a-a4d3-aaa5ac064ec5"
      },
      "source": [
        "# 3 ANÁLISE GRÁFICA DESCRITIVA 01"
      ],
      "id": "7f401ab9-48e8-418a-a4d3-aaa5ac064ec5"
    },
    {
      "cell_type": "markdown",
      "metadata": {
        "id": "c855d56a-1f7c-48da-a305-001dfb0755f8"
      },
      "source": [
        "## 3.1 Gráfico de histograma"
      ],
      "id": "c855d56a-1f7c-48da-a305-001dfb0755f8"
    },
    {
      "cell_type": "code",
      "metadata": {
        "id": "23683e3e-9204-4b1b-8995-2d7406145ece",
        "colab": {
          "base_uri": "https://localhost:8080/",
          "height": 312
        },
        "outputId": "6e84018a-cd7a-4b6b-9eff-42bb0c542da7"
      },
      "source": [
        "# Cria uma imagem vazia\n",
        "fig = plt.figure()\n",
        "\n",
        "# Plota o histograma\n",
        "plt.hist(s1, bins = 5)\n",
        "\n",
        "# Coloca título nos eixos\n",
        "plt.title(\"Distribuição da variável S1\", loc = 'left')\n",
        "\n",
        "# Coloca nome nos eixos\n",
        "plt.xlabel('s1')\n",
        "plt.ylabel('Frequência')"
      ],
      "id": "23683e3e-9204-4b1b-8995-2d7406145ece",
      "execution_count": 7,
      "outputs": [
        {
          "output_type": "execute_result",
          "data": {
            "text/plain": [
              "Text(0, 0.5, 'Frequência')"
            ]
          },
          "metadata": {},
          "execution_count": 7
        },
        {
          "output_type": "display_data",
          "data": {
            "text/plain": [
              "<Figure size 432x288 with 1 Axes>"
            ],
            "image/png": "[encoded data removed]"
          },
          "metadata": {
            "needs_background": "light"
          }
        }
      ]
    },
    {
      "cell_type": "markdown",
      "metadata": {
        "id": "c113a42e-0c19-4644-acbf-f02741735133"
      },
      "source": [
        "### Múltiplos gráficos"
      ],
      "id": "c113a42e-0c19-4644-acbf-f02741735133"
    },
    {
      "cell_type": "code",
      "metadata": {
        "id": "b75bfa2f-1620-4f58-b71e-7f9b75b2755c",
        "colab": {
          "base_uri": "https://localhost:8080/",
          "height": 317
        },
        "outputId": "1c16a5a8-e715-418e-9dfd-ba07f38988d7"
      },
      "source": [
        "# Cria a figura e os subplots\n",
        "fig = plt.figure()\n",
        "plt.subplots_adjust(hspace = 0.3, wspace = 0.4)\n",
        "fig.suptitle('Comparação de distribuições', x=0.1, y=.95, horizontalalignment = 'left', verticalalignment = 'top')\n",
        "ax1 = fig.add_subplot(2, 2, 1)\n",
        "ax2 = fig.add_subplot(2, 2, 2)\n",
        "ax3 = fig.add_subplot(2, 2, 3)\n",
        "\n",
        "# Cria os gráficos de histograma e acerta os nomes dos eixos\n",
        "ax1.hist(s1, bins = 5)\n",
        "ax1.set_xlabel('s1')\n",
        "ax1.set_ylabel('Frequência')\n",
        "\n",
        "ax2.hist(s2, bins = 5)\n",
        "ax2.set_xlabel('s2')\n",
        "ax2.set_ylabel('Frequência')\n",
        "\n",
        "ax3.hist(s3, bins = 5)\n",
        "ax3.set_xlabel('s3')\n",
        "ax3.set_ylabel('Frequência')"
      ],
      "id": "b75bfa2f-1620-4f58-b71e-7f9b75b2755c",
      "execution_count": 8,
      "outputs": [
        {
          "output_type": "execute_result",
          "data": {
            "text/plain": [
              "Text(0, 0.5, 'Frequência')"
            ]
          },
          "metadata": {},
          "execution_count": 8
        },
        {
          "output_type": "display_data",
          "data": {
            "text/plain": [
              "<Figure size 432x288 with 3 Axes>"
            ],
            "image/png": "[encoded data removed]"
          },
          "metadata": {
            "needs_background": "light"
          }
        }
      ]
    },
    {
      "cell_type": "markdown",
      "metadata": {
        "id": "36b3d789-bae6-42fa-9d86-2594a6bfd36a"
      },
      "source": [
        "### Histogramas superpostos"
      ],
      "id": "36b3d789-bae6-42fa-9d86-2594a6bfd36a"
    },
    {
      "cell_type": "code",
      "metadata": {
        "id": "0b135320-6841-49ec-9a55-af344d097790",
        "colab": {
          "base_uri": "https://localhost:8080/",
          "height": 298
        },
        "outputId": "56e6bced-c7d8-4375-ea66-3d1e36d9e543"
      },
      "source": [
        "fig = plt.figure()\n",
        "plt.hist(s1, alpha = 0.5, label = 's1')\n",
        "plt.hist(s2, alpha = 0.5, label = 's1')\n",
        "plt.hist(s3, alpha = 0.5, label = 's1')\n",
        "# Código alternativo\n",
        "# plt.hist([s1, s2, s3], bins, label=['s1', 's2', 's3'])\n",
        "\n",
        "plt.legend(loc = 'upper right')\n",
        "plt.ylabel('Frequência')\n",
        "plt.title('Comparação entre variáveis', loc = 'left')\n",
        "\n"
      ],
      "id": "0b135320-6841-49ec-9a55-af344d097790",
      "execution_count": 9,
      "outputs": [
        {
          "output_type": "execute_result",
          "data": {
            "text/plain": [
              "Text(0.0, 1.0, 'Comparação entre variáveis')"
            ]
          },
          "metadata": {},
          "execution_count": 9
        },
        {
          "output_type": "display_data",
          "data": {
            "text/plain": [
              "<Figure size 432x288 with 1 Axes>"
            ],
            "image/png": "[encoded data removed]"
          },
          "metadata": {
            "needs_background": "light"
          }
        }
      ]
    },
    {
      "cell_type": "markdown",
      "metadata": {
        "id": "b85bba32-3e0c-4647-9394-59d6dccad66b"
      },
      "source": [
        "# 4 MEDIDAS DE CENTRALIZAÇÃO"
      ],
      "id": "b85bba32-3e0c-4647-9394-59d6dccad66b"
    },
    {
      "cell_type": "markdown",
      "metadata": {
        "id": "4eae0df2-8ab5-4d8b-a65f-ffb7eebf6735"
      },
      "source": [
        "## 4.1 Moda"
      ],
      "id": "4eae0df2-8ab5-4d8b-a65f-ffb7eebf6735"
    },
    {
      "cell_type": "code",
      "metadata": {
        "id": "d099e62a-2a6d-462c-8c65-6c0db34d5f5b",
        "outputId": "a054fe75-ade1-4c63-cff2-d3a367f7a417",
        "colab": {
          "base_uri": "https://localhost:8080/"
        }
      },
      "source": [
        "moda1, count1 = stats.mode(s1)\n",
        "# Converte o objeto para np.float64\n",
        "moda1 = np.float64(moda1[0])\n",
        "moda1\n",
        "\n",
        "# Código alternativo\n",
        "# s1.mode()"
      ],
      "id": "d099e62a-2a6d-462c-8c65-6c0db34d5f5b",
      "execution_count": 10,
      "outputs": [
        {
          "output_type": "execute_result",
          "data": {
            "text/plain": [
              "3.0"
            ]
          },
          "metadata": {},
          "execution_count": 10
        }
      ]
    },
    {
      "cell_type": "code",
      "metadata": {
        "id": "e081a200-3067-4dda-8584-99b42b07e971",
        "outputId": "c67b8d40-738f-4029-a751-95358dd43bbd",
        "colab": {
          "base_uri": "https://localhost:8080/"
        }
      },
      "source": [
        "moda2, count2 = stats.mode(s2)\n",
        "# Converte o objeto para np.float64\n",
        "moda2 = np.float64(moda2[0])\n",
        "moda2"
      ],
      "id": "e081a200-3067-4dda-8584-99b42b07e971",
      "execution_count": 11,
      "outputs": [
        {
          "output_type": "execute_result",
          "data": {
            "text/plain": [
              "4.0"
            ]
          },
          "metadata": {},
          "execution_count": 11
        }
      ]
    },
    {
      "cell_type": "code",
      "metadata": {
        "id": "03117aea-b307-4eab-8dff-943747d04260",
        "outputId": "f89422fd-8d16-4b06-b1a7-bc4da40dbccd",
        "colab": {
          "base_uri": "https://localhost:8080/"
        }
      },
      "source": [
        "moda3, count3 = stats.mode(s3)\n",
        "# Converte o objeto para np.float64\n",
        "moda3 = np.float64(moda3[0])\n",
        "moda3"
      ],
      "id": "03117aea-b307-4eab-8dff-943747d04260",
      "execution_count": 12,
      "outputs": [
        {
          "output_type": "execute_result",
          "data": {
            "text/plain": [
              "8.0"
            ]
          },
          "metadata": {},
          "execution_count": 12
        }
      ]
    },
    {
      "cell_type": "markdown",
      "metadata": {
        "id": "45b64064-f81d-47df-8963-8544267dadef"
      },
      "source": [
        "# 4.2 Mediana"
      ],
      "id": "45b64064-f81d-47df-8963-8544267dadef"
    },
    {
      "cell_type": "code",
      "metadata": {
        "id": "2397e41c-3f95-42cc-bf0a-1459c03e7962",
        "outputId": "eb39002a-6ea1-467f-cfca-6563d18ee13c",
        "colab": {
          "base_uri": "https://localhost:8080/"
        }
      },
      "source": [
        "# A mediana já é retornada como np.float64\n",
        "mediana1 = np.median(s1)\n",
        "mediana1\n",
        "\n",
        "# Código alternativo\n",
        "# s2.median()"
      ],
      "id": "2397e41c-3f95-42cc-bf0a-1459c03e7962",
      "execution_count": 13,
      "outputs": [
        {
          "output_type": "execute_result",
          "data": {
            "text/plain": [
              "4.5"
            ]
          },
          "metadata": {},
          "execution_count": 13
        }
      ]
    },
    {
      "cell_type": "code",
      "metadata": {
        "id": "d538dc00-a7d1-4d1b-834b-5564a3cc0f60",
        "outputId": "f4238306-d495-48f7-ad4d-919afc875e64",
        "colab": {
          "base_uri": "https://localhost:8080/"
        }
      },
      "source": [
        "# A mediana já é retornada como np.float64\n",
        "mediana2 = np.median(s2)\n",
        "mediana2"
      ],
      "id": "d538dc00-a7d1-4d1b-834b-5564a3cc0f60",
      "execution_count": 14,
      "outputs": [
        {
          "output_type": "execute_result",
          "data": {
            "text/plain": [
              "4.5"
            ]
          },
          "metadata": {},
          "execution_count": 14
        }
      ]
    },
    {
      "cell_type": "code",
      "metadata": {
        "id": "d40ce5f5-211d-4f3a-a991-b5d49bdcc630",
        "outputId": "b11804a1-82cc-4405-b4bd-f5616e88d3d4",
        "colab": {
          "base_uri": "https://localhost:8080/"
        }
      },
      "source": [
        "# A mediana já é retornada como np.float64\n",
        "mediana3 = np.median(s3)\n",
        "mediana3"
      ],
      "id": "d40ce5f5-211d-4f3a-a991-b5d49bdcc630",
      "execution_count": 15,
      "outputs": [
        {
          "output_type": "execute_result",
          "data": {
            "text/plain": [
              "8.0"
            ]
          },
          "metadata": {},
          "execution_count": 15
        }
      ]
    },
    {
      "cell_type": "markdown",
      "metadata": {
        "id": "bd7319b3-9e49-4263-9a14-cbec9c6aefff"
      },
      "source": [
        "# 4.3 Média"
      ],
      "id": "bd7319b3-9e49-4263-9a14-cbec9c6aefff"
    },
    {
      "cell_type": "code",
      "metadata": {
        "id": "fcae8ac2-083f-44bc-ade2-674949675eda",
        "outputId": "1637df65-04bf-4581-dd1f-001e16b54034",
        "colab": {
          "base_uri": "https://localhost:8080/"
        }
      },
      "source": [
        "media1 = np.mean(s1)\n",
        "# Converte o objeto para np.float64\n",
        "media1 = np.float64(media1)\n",
        "media1\n",
        "\n",
        "# Código alternativo\n",
        "# s1.mean(axis = 0)"
      ],
      "id": "fcae8ac2-083f-44bc-ade2-674949675eda",
      "execution_count": 16,
      "outputs": [
        {
          "output_type": "execute_result",
          "data": {
            "text/plain": [
              "4.7"
            ]
          },
          "metadata": {},
          "execution_count": 16
        }
      ]
    },
    {
      "cell_type": "code",
      "metadata": {
        "id": "cdb21757-ed08-46f2-9b53-35026c780f22",
        "outputId": "9fc3f271-0ab6-4e8b-f956-2a4567fd0bfa",
        "colab": {
          "base_uri": "https://localhost:8080/"
        }
      },
      "source": [
        "media2 = np.mean(s2)\n",
        "# Converte o objeto para np.float64\n",
        "media2 = np.float64(media2)\n",
        "media2\n",
        "\n",
        "# Código alternativo\n",
        "# s2.mean(axis = 0)"
      ],
      "id": "cdb21757-ed08-46f2-9b53-35026c780f22",
      "execution_count": 17,
      "outputs": [
        {
          "output_type": "execute_result",
          "data": {
            "text/plain": [
              "5.25"
            ]
          },
          "metadata": {},
          "execution_count": 17
        }
      ]
    },
    {
      "cell_type": "code",
      "metadata": {
        "id": "65902e5a-e0bd-4697-9d35-1c4f0b2a484a",
        "outputId": "ed3fa5e4-6fcd-40da-b616-ff943f5ece2e",
        "colab": {
          "base_uri": "https://localhost:8080/"
        }
      },
      "source": [
        "media3 = np.mean(s3)\n",
        "# Converte o objeto para np.float64\n",
        "media3 = np.float64(media3)\n",
        "media3\n",
        "\n",
        "# Código alternativo\n",
        "# s3.mean(axis = 0)"
      ],
      "id": "65902e5a-e0bd-4697-9d35-1c4f0b2a484a",
      "execution_count": 18,
      "outputs": [
        {
          "output_type": "execute_result",
          "data": {
            "text/plain": [
              "7.5"
            ]
          },
          "metadata": {},
          "execution_count": 18
        }
      ]
    },
    {
      "cell_type": "markdown",
      "metadata": {
        "id": "afeb603e-5efa-4c61-99d3-f64bb85f6721"
      },
      "source": [
        "# 4.4 Vizualização"
      ],
      "id": "afeb603e-5efa-4c61-99d3-f64bb85f6721"
    },
    {
      "cell_type": "code",
      "metadata": {
        "id": "9e9f8d48-4ac2-422a-bbcc-115caebd5eb3"
      },
      "source": [
        "xCoords = pd.Series([moda1, mediana1, media1], ['moda', 'mediana', 'media'])"
      ],
      "id": "9e9f8d48-4ac2-422a-bbcc-115caebd5eb3",
      "execution_count": 19,
      "outputs": []
    },
    {
      "cell_type": "code",
      "metadata": {
        "id": "f0d6e9ff-b3bc-4820-b4a0-be8e1a183359",
        "outputId": "9c38bcc9-33b8-4de5-aec1-a13410284d2a",
        "colab": {
          "base_uri": "https://localhost:8080/"
        }
      },
      "source": [
        "xCoords.index"
      ],
      "id": "f0d6e9ff-b3bc-4820-b4a0-be8e1a183359",
      "execution_count": 20,
      "outputs": [
        {
          "output_type": "execute_result",
          "data": {
            "text/plain": [
              "Index(['moda', 'mediana', 'media'], dtype='object')"
            ]
          },
          "metadata": {},
          "execution_count": 20
        }
      ]
    },
    {
      "cell_type": "markdown",
      "metadata": {
        "id": "0dc186e2-13d5-4dda-8f91-ea34fc71ae3e"
      },
      "source": [
        "### 4.4.1 Gráfico único"
      ],
      "id": "0dc186e2-13d5-4dda-8f91-ea34fc71ae3e"
    },
    {
      "cell_type": "code",
      "metadata": {
        "id": "2b434923-e184-4e91-9615-e9137c903550",
        "outputId": "c408b3f7-1528-4588-e682-8456158f7abd",
        "colab": {
          "base_uri": "https://localhost:8080/",
          "height": 312
        }
      },
      "source": [
        "# Cria uma imagem vazia\n",
        "fig = plt.figure()\n",
        "\n",
        "# Plota o histograma\n",
        "h = plt.hist(s1, bins = 5)\n",
        "\n",
        "# Coloca título nos eixos\n",
        "plt.title(\"Distribuição da variável S1\", loc = 'left')\n",
        "\n",
        "# Coloca nome nos eixos\n",
        "plt.xlabel('s1')\n",
        "plt.ylabel('Frequência')\n",
        "\n",
        "# Define a coordenada das linhas\n",
        "xCoords = pd.Series([moda1, mediana1, media1], ['moda', 'mediana', 'media'])\n",
        "\n",
        "# Define a cor das linhas\n",
        "colors = ['r', 'k', 'y']\n",
        "\n",
        "# Plota linhas verticais\n",
        "for xc,xn,c in zip(xCoords, xCoords.index, colors):\n",
        "    plt.axvline(x = xc, label = xn, c = c)\n",
        "    \n",
        "plt.legend()"
      ],
      "id": "2b434923-e184-4e91-9615-e9137c903550",
      "execution_count": 21,
      "outputs": [
        {
          "output_type": "execute_result",
          "data": {
            "text/plain": [
              "<matplotlib.legend.Legend at 0x7f1070fc13d0>"
            ]
          },
          "metadata": {},
          "execution_count": 21
        },
        {
          "output_type": "display_data",
          "data": {
            "text/plain": [
              "<Figure size 432x288 with 1 Axes>"
            ],
            "image/png": "[encoded data removed]"
          },
          "metadata": {
            "needs_background": "light"
          }
        }
      ]
    },
    {
      "cell_type": "markdown",
      "metadata": {
        "id": "f9b27f41-6491-4925-a2c6-b522dbe6fd8f"
      },
      "source": [
        "### 4.4.2 Múltiplos gráficos"
      ],
      "id": "f9b27f41-6491-4925-a2c6-b522dbe6fd8f"
    },
    {
      "cell_type": "code",
      "metadata": {
        "id": "7e5b2433-fc1e-425a-9391-fb2f50c868a7",
        "outputId": "89034129-ad4e-4f78-f798-0d7f88013693",
        "colab": {
          "base_uri": "https://localhost:8080/",
          "height": 300
        }
      },
      "source": [
        "# Cria a figura e os subplots\n",
        "fig = plt.figure()\n",
        "plt.subplots_adjust(hspace = 0.3, wspace = 0.4)\n",
        "fig.suptitle('Comparação de distribuições, modas, médias e medianas', x=0.1, y=.95, horizontalalignment = 'left', verticalalignment = 'top')\n",
        "ax1 = fig.add_subplot(2, 2, 1)\n",
        "ax2 = fig.add_subplot(2, 2, 2)\n",
        "ax3 = fig.add_subplot(2, 2, 3)\n",
        "\n",
        "# Cria os gráficos de histograma e acerta os nomes dos eixos\n",
        "ax1.hist(s1, bins = 5)\n",
        "ax1.set_xlabel('s1')\n",
        "ax1.set_ylabel('Frequência')\n",
        "\n",
        "ax2.hist(s2, bins = 5)\n",
        "ax2.set_xlabel('s2')\n",
        "ax2.set_ylabel('Frequência')\n",
        "\n",
        "ax3.hist(s3, bins = 5)\n",
        "ax3.set_xlabel('s3')\n",
        "ax3.set_ylabel('Frequência')\n",
        "\n",
        "# Cria as séries com as coordenadas das linhas verticais\n",
        "\n",
        "xCoords1 = pd.Series([moda1, mediana1, media1], ['moda', 'mediana', 'media'])\n",
        "xCoords2 = pd.Series([moda2, mediana2, media2], ['moda', 'mediana', 'media'])\n",
        "xCoords3 = pd.Series([moda3, mediana3, media3], ['moda', 'mediana', 'media'])\n",
        "\n",
        "# Plota as linhas\n",
        "\n",
        "for xc,xn,c in zip(xCoords1, xCoords1.index, colors):\n",
        "    ax1.axvline(x = xc, label = xn, c = c)\n",
        "    \n",
        "for xc,xn,c in zip(xCoords2, xCoords2.index, colors):\n",
        "    ax2.axvline(x = xc, label = xn, c = c)\n",
        "    \n",
        "for xc,xn,c in zip(xCoords3, xCoords3.index, colors):\n",
        "    ax3.axvline(x = xc, label = xn, c = c)"
      ],
      "id": "7e5b2433-fc1e-425a-9391-fb2f50c868a7",
      "execution_count": 22,
      "outputs": [
        {
          "output_type": "display_data",
          "data": {
            "text/plain": [
              "<Figure size 432x288 with 3 Axes>"
            ],
            "image/png": "[encoded data removed]"
          },
          "metadata": {
            "needs_background": "light"
          }
        }
      ]
    },
    {
      "cell_type": "markdown",
      "metadata": {
        "id": "b21e135f-fdd4-42c3-b899-0445e24f021f"
      },
      "source": [
        "# 5 MÉTRICAS DE VARIABBILIDADE"
      ],
      "id": "b21e135f-fdd4-42c3-b899-0445e24f021f"
    },
    {
      "cell_type": "markdown",
      "metadata": {
        "id": "9076b16f-7a13-4d2d-a618-677f9bf55436"
      },
      "source": [
        "## 5.1 AMPLITUDE"
      ],
      "id": "9076b16f-7a13-4d2d-a618-677f9bf55436"
    },
    {
      "cell_type": "code",
      "metadata": {
        "id": "2d026910-c83c-49aa-ae89-9f3081b567a6",
        "outputId": "58807b81-82f8-456c-a8cf-d3003c7946c6",
        "colab": {
          "base_uri": "https://localhost:8080/"
        }
      },
      "source": [
        "range1 = np.ptp(s1)\n",
        "range1"
      ],
      "id": "2d026910-c83c-49aa-ae89-9f3081b567a6",
      "execution_count": 23,
      "outputs": [
        {
          "output_type": "execute_result",
          "data": {
            "text/plain": [
              "8"
            ]
          },
          "metadata": {},
          "execution_count": 23
        }
      ]
    },
    {
      "cell_type": "code",
      "metadata": {
        "id": "cfd7ccce-46d1-446b-bce2-59cd5f65b67c",
        "outputId": "fceaaf89-726e-4c43-e0fd-5c2a38bcc825",
        "colab": {
          "base_uri": "https://localhost:8080/"
        }
      },
      "source": [
        "range2 = np.ptp(s2)\n",
        "range2"
      ],
      "id": "cfd7ccce-46d1-446b-bce2-59cd5f65b67c",
      "execution_count": 24,
      "outputs": [
        {
          "output_type": "execute_result",
          "data": {
            "text/plain": [
              "9"
            ]
          },
          "metadata": {},
          "execution_count": 24
        }
      ]
    },
    {
      "cell_type": "code",
      "metadata": {
        "id": "270843a1-4fbc-4e7d-b7cb-401fad461dd2",
        "outputId": "d04b8bcb-92d5-41cd-cb92-a36cda4acdf5",
        "colab": {
          "base_uri": "https://localhost:8080/"
        }
      },
      "source": [
        "range3 = np.ptp(s3)\n",
        "range3"
      ],
      "id": "270843a1-4fbc-4e7d-b7cb-401fad461dd2",
      "execution_count": 25,
      "outputs": [
        {
          "output_type": "execute_result",
          "data": {
            "text/plain": [
              "5"
            ]
          },
          "metadata": {},
          "execution_count": 25
        }
      ]
    },
    {
      "cell_type": "markdown",
      "metadata": {
        "id": "3e323ef9-dd25-4e46-bce8-f6fd8effdfc6"
      },
      "source": [
        "## 5.2 VARIÂNCIA"
      ],
      "id": "3e323ef9-dd25-4e46-bce8-f6fd8effdfc6"
    },
    {
      "cell_type": "code",
      "metadata": {
        "id": "0de933cb-8cb1-402c-b14e-a74f868426b7",
        "outputId": "206bfc66-8127-4d06-f2f1-6b0e14b6b7f9",
        "colab": {
          "base_uri": "https://localhost:8080/"
        }
      },
      "source": [
        "# NumPy calcula por padrão variância populacional. Para amostra, ddof = 1\n",
        "var1 = np.var(s1, ddof = 1)\n",
        "# Converte para np.float64\n",
        "var1 = np.float64(var1)\n",
        "var1\n",
        "\n",
        "# Código alternativo\n",
        "#s1.var(axis = 0)"
      ],
      "id": "0de933cb-8cb1-402c-b14e-a74f868426b7",
      "execution_count": 26,
      "outputs": [
        {
          "output_type": "execute_result",
          "data": {
            "text/plain": [
              "5.8"
            ]
          },
          "metadata": {},
          "execution_count": 26
        }
      ]
    },
    {
      "cell_type": "code",
      "metadata": {
        "id": "1be61f46-85ce-4b97-9a4f-48ad7e927654",
        "outputId": "6c9d2e37-7586-4d3e-800e-50720b61e52e",
        "colab": {
          "base_uri": "https://localhost:8080/"
        }
      },
      "source": [
        "var2 = np.var(s2, ddof = 1)\n",
        "# Converte para np.float64\n",
        "var2 = np.float64(var2)\n",
        "var2"
      ],
      "id": "1be61f46-85ce-4b97-9a4f-48ad7e927654",
      "execution_count": 27,
      "outputs": [
        {
          "output_type": "execute_result",
          "data": {
            "text/plain": [
              "5.776315789473684"
            ]
          },
          "metadata": {},
          "execution_count": 27
        }
      ]
    },
    {
      "cell_type": "code",
      "metadata": {
        "id": "a5463435-9a1b-4c75-87d1-d305055deace",
        "outputId": "99332f1b-a836-4de0-a670-9054374e8327",
        "colab": {
          "base_uri": "https://localhost:8080/"
        }
      },
      "source": [
        "var3 = np.var(s3, ddof = 1)\n",
        "# Converte para np.float64\n",
        "var3 = np.float64(var3)\n",
        "var3"
      ],
      "id": "a5463435-9a1b-4c75-87d1-d305055deace",
      "execution_count": 28,
      "outputs": [
        {
          "output_type": "execute_result",
          "data": {
            "text/plain": [
              "1.105263157894737"
            ]
          },
          "metadata": {},
          "execution_count": 28
        }
      ]
    },
    {
      "cell_type": "markdown",
      "metadata": {
        "id": "f1e2a000-0ee3-4a38-b5e4-4d7b07070f53"
      },
      "source": [
        "## 5.3 Desvio Padrão"
      ],
      "id": "f1e2a000-0ee3-4a38-b5e4-4d7b07070f53"
    },
    {
      "cell_type": "code",
      "metadata": {
        "id": "b0b80dce-6039-418d-8a84-988bc870ae7e",
        "outputId": "fe4d70c1-aa3e-43d4-8443-42d8f2859f41",
        "colab": {
          "base_uri": "https://localhost:8080/"
        }
      },
      "source": [
        "sd1 = np.std(s1, ddof = 1)\n",
        "sd1 = np.float64(sd1)\n",
        "sd1\n",
        "\n",
        "# Código alternatico\n",
        "# s1.std()"
      ],
      "id": "b0b80dce-6039-418d-8a84-988bc870ae7e",
      "execution_count": 29,
      "outputs": [
        {
          "output_type": "execute_result",
          "data": {
            "text/plain": [
              "2.4083189157584592"
            ]
          },
          "metadata": {},
          "execution_count": 29
        }
      ]
    },
    {
      "cell_type": "code",
      "metadata": {
        "id": "ddb5b96c-7127-4122-9340-ff22380d612d",
        "outputId": "74fd2061-96c1-4084-9a00-aef8e687c1e7",
        "colab": {
          "base_uri": "https://localhost:8080/"
        }
      },
      "source": [
        "sd2 = np.std(s2, ddof = 1)\n",
        "sd2 = np.float64(sd2)\n",
        "sd2"
      ],
      "id": "ddb5b96c-7127-4122-9340-ff22380d612d",
      "execution_count": 30,
      "outputs": [
        {
          "output_type": "execute_result",
          "data": {
            "text/plain": [
              "2.403396719119356"
            ]
          },
          "metadata": {},
          "execution_count": 30
        }
      ]
    },
    {
      "cell_type": "code",
      "metadata": {
        "id": "07d5356c-2ed4-4df1-8e98-1a40ec0b7225",
        "outputId": "236f334c-a01c-4093-cb9e-f44331ba0ec7",
        "colab": {
          "base_uri": "https://localhost:8080/"
        }
      },
      "source": [
        "sd3 = np.std(s3, ddof = 1)\n",
        "sd3 = np.float64(sd3)\n",
        "sd3"
      ],
      "id": "07d5356c-2ed4-4df1-8e98-1a40ec0b7225",
      "execution_count": 31,
      "outputs": [
        {
          "output_type": "execute_result",
          "data": {
            "text/plain": [
              "1.0513149660756937"
            ]
          },
          "metadata": {},
          "execution_count": 31
        }
      ]
    },
    {
      "cell_type": "markdown",
      "metadata": {
        "id": "4e6b3326-b97b-4416-81be-a1e3e282ff2c"
      },
      "source": [
        "# 6 QUANTIS"
      ],
      "id": "4e6b3326-b97b-4416-81be-a1e3e282ff2c"
    },
    {
      "cell_type": "code",
      "metadata": {
        "id": "9e3d3536-d3f3-42c6-8348-493ea9e09404",
        "outputId": "12afac3f-382f-4ffd-d7f3-d5d5f4930007",
        "colab": {
          "base_uri": "https://localhost:8080/"
        }
      },
      "source": [
        "# Quantil 75 (75% dos dados são menores que o valor caculado)\n",
        "s175 = np.quantile(s1, 0.75)\n",
        "s175"
      ],
      "id": "9e3d3536-d3f3-42c6-8348-493ea9e09404",
      "execution_count": 32,
      "outputs": [
        {
          "output_type": "execute_result",
          "data": {
            "text/plain": [
              "7.0"
            ]
          },
          "metadata": {},
          "execution_count": 32
        }
      ]
    },
    {
      "cell_type": "code",
      "metadata": {
        "id": "ab557c6f-21c5-4de9-8827-f9c5f318eaad",
        "outputId": "25f1a814-8d83-48bd-cb4e-047d94fc39b4",
        "colab": {
          "base_uri": "https://localhost:8080/"
        }
      },
      "source": [
        "s275 = np.quantile(s2, 0.75)\n",
        "s275"
      ],
      "id": "ab557c6f-21c5-4de9-8827-f9c5f318eaad",
      "execution_count": 33,
      "outputs": [
        {
          "output_type": "execute_result",
          "data": {
            "text/plain": [
              "6.0"
            ]
          },
          "metadata": {},
          "execution_count": 33
        }
      ]
    },
    {
      "cell_type": "code",
      "metadata": {
        "id": "7bd81ef0-ad36-493e-a74f-ed8ef81d9cbf",
        "outputId": "4081ff0a-ffc1-4c24-d9d3-7242daa43fb9",
        "colab": {
          "base_uri": "https://localhost:8080/"
        }
      },
      "source": [
        "s375 = np.quantile(s3, 0.75)\n",
        "s375"
      ],
      "id": "7bd81ef0-ad36-493e-a74f-ed8ef81d9cbf",
      "execution_count": 34,
      "outputs": [
        {
          "output_type": "execute_result",
          "data": {
            "text/plain": [
              "8.0"
            ]
          },
          "metadata": {},
          "execution_count": 34
        }
      ]
    },
    {
      "cell_type": "markdown",
      "metadata": {
        "id": "f8512c79-13ce-4eb9-9f50-73be4ef15b26"
      },
      "source": [
        "# 7 GRÁFICO BOX-PLOT"
      ],
      "id": "f8512c79-13ce-4eb9-9f50-73be4ef15b26"
    },
    {
      "cell_type": "markdown",
      "metadata": {
        "id": "aff7fa50-ad2a-4420-ac19-04eba918abb4"
      },
      "source": [
        "## 7.1 Gráfico único"
      ],
      "id": "aff7fa50-ad2a-4420-ac19-04eba918abb4"
    },
    {
      "cell_type": "code",
      "metadata": {
        "id": "344c3492-9a5a-495e-8f64-6f0842c54940"
      },
      "source": [
        "plt.close('all')"
      ],
      "id": "344c3492-9a5a-495e-8f64-6f0842c54940",
      "execution_count": 35,
      "outputs": []
    },
    {
      "cell_type": "code",
      "metadata": {
        "id": "5ed802b9-6e86-46a7-a4f5-b055e0648b57",
        "outputId": "b7d6ce68-8b06-443b-841e-e5a53768a921",
        "colab": {
          "base_uri": "https://localhost:8080/",
          "height": 281
        }
      },
      "source": [
        "fig = plt.figure()\n",
        "plt.boxplot(s2, showmeans = True)\n",
        "plt.ylabel('Valores')\n",
        "\n",
        "# Remove o valor do eixo x\n",
        "plt.xticks([1], [''])\n",
        "\n",
        "# Remove o tick do eixo x\n",
        "plt.tick_params(axis = \"x\", which = \"both\", bottom = False, top = False)\n",
        "\n",
        "plt.title('Gráfico Box-Plot da Variável s2', loc = 'left')"
      ],
      "id": "5ed802b9-6e86-46a7-a4f5-b055e0648b57",
      "execution_count": 36,
      "outputs": [
        {
          "output_type": "execute_result",
          "data": {
            "text/plain": [
              "Text(0.0, 1.0, 'Gráfico Box-Plot da Variável s2')"
            ]
          },
          "metadata": {},
          "execution_count": 36
        },
        {
          "output_type": "display_data",
          "data": {
            "text/plain": [
              "<Figure size 432x288 with 1 Axes>"
            ],
            "image/png": "[encoded data removed]"
          },
          "metadata": {
            "needs_background": "light"
          }
        }
      ]
    },
    {
      "cell_type": "markdown",
      "metadata": {
        "id": "e0b9fb47-96a3-4062-9957-8b793337230e"
      },
      "source": [
        "## 7.2 Múltiplas variáveis em um gráfico"
      ],
      "id": "e0b9fb47-96a3-4062-9957-8b793337230e"
    },
    {
      "cell_type": "code",
      "metadata": {
        "id": "b468936e-4b3f-49f3-a0e8-7bb1478a31d9",
        "outputId": "f00d51e2-d658-4077-9ea4-47f592b81d8f",
        "colab": {
          "base_uri": "https://localhost:8080/",
          "height": 298
        }
      },
      "source": [
        "fig = plt.figure()\n",
        "plt.boxplot([s1, s2, s3], showmeans = True)\n",
        "plt.xticks([1, 2, 3], ['s1', 's2', 's3'])\n",
        "plt.ylabel('Valores')\n",
        "plt.title('Gráfico Box-plot', loc = 'left')"
      ],
      "id": "b468936e-4b3f-49f3-a0e8-7bb1478a31d9",
      "execution_count": 37,
      "outputs": [
        {
          "output_type": "execute_result",
          "data": {
            "text/plain": [
              "Text(0.0, 1.0, 'Gráfico Box-plot')"
            ]
          },
          "metadata": {},
          "execution_count": 37
        },
        {
          "output_type": "display_data",
          "data": {
            "text/plain": [
              "<Figure size 432x288 with 1 Axes>"
            ],
            "image/png": "[encoded data removed]"
          },
          "metadata": {
            "needs_background": "light"
          }
        }
      ]
    },
    {
      "cell_type": "markdown",
      "metadata": {
        "id": "320ca858-562b-4eb8-b9ce-a37427350ce3"
      },
      "source": [
        "# 8 CORRELAÇÃO"
      ],
      "id": "320ca858-562b-4eb8-b9ce-a37427350ce3"
    },
    {
      "cell_type": "markdown",
      "metadata": {
        "id": "0fca6c9a-3808-4f0a-b885-a51e1c21485f"
      },
      "source": [
        "## 8.1 Carregando dados"
      ],
      "id": "0fca6c9a-3808-4f0a-b885-a51e1c21485f"
    },
    {
      "cell_type": "code",
      "metadata": {
        "id": "37dbed40-8603-4835-ba02-8b0a2777fce3"
      },
      "source": [
        "url = 'https://archive.ics.uci.edu/ml/machine-learning-databases/auto-mpg/auto-mpg.data'"
      ],
      "id": "37dbed40-8603-4835-ba02-8b0a2777fce3",
      "execution_count": 38,
      "outputs": []
    },
    {
      "cell_type": "code",
      "metadata": {
        "id": "4658acb7-e788-492d-9e45-c8c90684db58"
      },
      "source": [
        "## Nome das colunas foi adquirido do arquivo aut-mp.names\n",
        "## https://archive.ics.uci.edu/ml/machine-learning-databases/auto-mpg/auto-mpg.names\n",
        "names = ['mpg', 'cyl', 'disp', 'hp', 'weight', 'acc', 'year', 'origin', 'name']"
      ],
      "id": "4658acb7-e788-492d-9e45-c8c90684db58",
      "execution_count": 39,
      "outputs": []
    },
    {
      "cell_type": "code",
      "metadata": {
        "id": "1ddbb5e5-f747-461c-bdab-075d631fd234"
      },
      "source": [
        "df = pd.read_table(url, header = None, delim_whitespace = True, names = names)"
      ],
      "id": "1ddbb5e5-f747-461c-bdab-075d631fd234",
      "execution_count": 40,
      "outputs": []
    },
    {
      "cell_type": "code",
      "metadata": {
        "id": "ee01da5e-a8b2-4693-8e64-c46a9a0cfa73",
        "outputId": "778a2efe-ce2e-41fc-f827-51770fea7128",
        "colab": {
          "base_uri": "https://localhost:8080/",
          "height": 206
        }
      },
      "source": [
        "pd.DataFrame.head(df)"
      ],
      "id": "ee01da5e-a8b2-4693-8e64-c46a9a0cfa73",
      "execution_count": 41,
      "outputs": [
        {
          "output_type": "execute_result",
          "data": {
            "text/plain": [
              "    mpg  cyl   disp     hp  weight   acc  year  origin  \\\n",
              "0  18.0    8  307.0  130.0  3504.0  12.0    70       1   \n",
              "1  15.0    8  350.0  165.0  3693.0  11.5    70       1   \n",
              "2  18.0    8  318.0  150.0  3436.0  11.0    70       1   \n",
              "3  16.0    8  304.0  150.0  3433.0  12.0    70       1   \n",
              "4  17.0    8  302.0  140.0  3449.0  10.5    70       1   \n",
              "\n",
              "                        name  \n",
              "0  chevrolet chevelle malibu  \n",
              "1          buick skylark 320  \n",
              "2         plymouth satellite  \n",
              "3              amc rebel sst  \n",
              "4                ford torino  "
            ],
            "text/html": [
              "\n",
              "  <div id=\"df-08c1de2d-975f-4b8a-b6aa-804216a3c295\">\n",
              "    <div class=\"colab-df-container\">\n",
              "      <div>\n",
              "<style scoped>\n",
              "    .dataframe tbody tr th:only-of-type {\n",
              "        vertical-align: middle;\n",
              "    }\n",
              "\n",
              "    .dataframe tbody tr th {\n",
              "        vertical-align: top;\n",
              "    }\n",
              "\n",
              "    .dataframe thead th {\n",
              "        text-align: right;\n",
              "    }\n",
              "</style>\n",
              "<table border=\"1\" class=\"dataframe\">\n",
              "  <thead>\n",
              "    <tr style=\"text-align: right;\">\n",
              "      <th></th>\n",
              "      <th>mpg</th>\n",
              "      <th>cyl</th>\n",
              "      <th>disp</th>\n",
              "      <th>hp</th>\n",
              "      <th>weight</th>\n",
              "      <th>acc</th>\n",
              "      <th>year</th>\n",
              "      <th>origin</th>\n",
              "      <th>name</th>\n",
              "    </tr>\n",
              "  </thead>\n",
              "  <tbody>\n",
              "    <tr>\n",
              "      <th>0</th>\n",
              "      <td>18.0</td>\n",
              "      <td>8</td>\n",
              "      <td>307.0</td>\n",
              "      <td>130.0</td>\n",
              "      <td>3504.0</td>\n",
              "      <td>12.0</td>\n",
              "      <td>70</td>\n",
              "      <td>1</td>\n",
              "      <td>chevrolet chevelle malibu</td>\n",
              "    </tr>\n",
              "    <tr>\n",
              "      <th>1</th>\n",
              "      <td>15.0</td>\n",
              "      <td>8</td>\n",
              "      <td>350.0</td>\n",
              "      <td>165.0</td>\n",
              "      <td>3693.0</td>\n",
              "      <td>11.5</td>\n",
              "      <td>70</td>\n",
              "      <td>1</td>\n",
              "      <td>buick skylark 320</td>\n",
              "    </tr>\n",
              "    <tr>\n",
              "      <th>2</th>\n",
              "      <td>18.0</td>\n",
              "      <td>8</td>\n",
              "      <td>318.0</td>\n",
              "      <td>150.0</td>\n",
              "      <td>3436.0</td>\n",
              "      <td>11.0</td>\n",
              "      <td>70</td>\n",
              "      <td>1</td>\n",
              "      <td>plymouth satellite</td>\n",
              "    </tr>\n",
              "    <tr>\n",
              "      <th>3</th>\n",
              "      <td>16.0</td>\n",
              "      <td>8</td>\n",
              "      <td>304.0</td>\n",
              "      <td>150.0</td>\n",
              "      <td>3433.0</td>\n",
              "      <td>12.0</td>\n",
              "      <td>70</td>\n",
              "      <td>1</td>\n",
              "      <td>amc rebel sst</td>\n",
              "    </tr>\n",
              "    <tr>\n",
              "      <th>4</th>\n",
              "      <td>17.0</td>\n",
              "      <td>8</td>\n",
              "      <td>302.0</td>\n",
              "      <td>140.0</td>\n",
              "      <td>3449.0</td>\n",
              "      <td>10.5</td>\n",
              "      <td>70</td>\n",
              "      <td>1</td>\n",
              "      <td>ford torino</td>\n",
              "    </tr>\n",
              "  </tbody>\n",
              "</table>\n",
              "</div>\n",
              "      <button class=\"colab-df-convert\" onclick=\"convertToInteractive('df-08c1de2d-975f-4b8a-b6aa-804216a3c295')\"\n",
              "              title=\"Convert this dataframe to an interactive table.\"\n",
              "              style=\"display:none;\">\n",
              "        \n",
              "  <svg xmlns=\"http://www.w3.org/2000/svg\" height=\"24px\"viewBox=\"0 0 24 24\"\n",
              "       width=\"24px\">\n",
              "    <path d=\"M0 0h24v24H0V0z\" fill=\"none\"/>\n",
              "    <path d=\"M18.56 5.44l.94 2.06.94-2.06 2.06-.94-2.06-.94-.94-2.06-.94 2.06-2.06.94zm-11 1L8.5 8.5l.94-2.06 2.06-.94-2.06-.94L8.5 2.5l-.94 2.06-2.06.94zm10 10l.94 2.06.94-2.06 2.06-.94-2.06-.94-.94-2.06-.94 2.06-2.06.94z\"/><path d=\"M17.41 7.96l-1.37-1.37c-.4-.4-.92-.59-1.43-.59-.52 0-1.04.2-1.43.59L10.3 9.45l-7.72 7.72c-.78.78-.78 2.05 0 2.83L4 21.41c.39.39.9.59 1.41.59.51 0 1.02-.2 1.41-.59l7.78-7.78 2.81-2.81c.8-.78.8-2.07 0-2.86zM5.41 20L4 18.59l7.72-7.72 1.47 1.35L5.41 20z\"/>\n",
              "  </svg>\n",
              "      </button>\n",
              "      \n",
              "  <style>\n",
              "    .colab-df-container {\n",
              "      display:flex;\n",
              "      flex-wrap:wrap;\n",
              "      gap: 12px;\n",
              "    }\n",
              "\n",
              "    .colab-df-convert {\n",
              "      background-color: #E8F0FE;\n",
              "      border: none;\n",
              "      border-radius: 50%;\n",
              "      cursor: pointer;\n",
              "      display: none;\n",
              "      fill: #1967D2;\n",
              "      height: 32px;\n",
              "      padding: 0 0 0 0;\n",
              "      width: 32px;\n",
              "    }\n",
              "\n",
              "    .colab-df-convert:hover {\n",
              "      background-color: #E2EBFA;\n",
              "      box-shadow: 0px 1px 2px rgba(60, 64, 67, 0.3), 0px 1px 3px 1px rgba(60, 64, 67, 0.15);\n",
              "      fill: #174EA6;\n",
              "    }\n",
              "\n",
              "    [theme=dark] .colab-df-convert {\n",
              "      background-color: #3B4455;\n",
              "      fill: #D2E3FC;\n",
              "    }\n",
              "\n",
              "    [theme=dark] .colab-df-convert:hover {\n",
              "      background-color: #434B5C;\n",
              "      box-shadow: 0px 1px 3px 1px rgba(0, 0, 0, 0.15);\n",
              "      filter: drop-shadow(0px 1px 2px rgba(0, 0, 0, 0.3));\n",
              "      fill: #FFFFFF;\n",
              "    }\n",
              "  </style>\n",
              "\n",
              "      <script>\n",
              "        const buttonEl =\n",
              "          document.querySelector('#df-08c1de2d-975f-4b8a-b6aa-804216a3c295 button.colab-df-convert');\n",
              "        buttonEl.style.display =\n",
              "          google.colab.kernel.accessAllowed ? 'block' : 'none';\n",
              "\n",
              "        async function convertToInteractive(key) {\n",
              "          const element = document.querySelector('#df-08c1de2d-975f-4b8a-b6aa-804216a3c295');\n",
              "          const dataTable =\n",
              "            await google.colab.kernel.invokeFunction('convertToInteractive',\n",
              "                                                     [key], {});\n",
              "          if (!dataTable) return;\n",
              "\n",
              "          const docLinkHtml = 'Like what you see? Visit the ' +\n",
              "            '<a target=\"_blank\" href=https://colab.research.google.com/notebooks/data_table.ipynb>data table notebook</a>'\n",
              "            + ' to learn more about interactive tables.';\n",
              "          element.innerHTML = '';\n",
              "          dataTable['output_type'] = 'display_data';\n",
              "          await google.colab.output.renderOutput(dataTable, element);\n",
              "          const docLink = document.createElement('div');\n",
              "          docLink.innerHTML = docLinkHtml;\n",
              "          element.appendChild(docLink);\n",
              "        }\n",
              "      </script>\n",
              "    </div>\n",
              "  </div>\n",
              "  "
            ]
          },
          "metadata": {},
          "execution_count": 41
        }
      ]
    },
    {
      "cell_type": "markdown",
      "metadata": {
        "id": "536ad9f5-6524-4369-a75b-b9740725fd13"
      },
      "source": [
        "## 8.2 Estatísticas descritivas"
      ],
      "id": "536ad9f5-6524-4369-a75b-b9740725fd13"
    },
    {
      "cell_type": "code",
      "metadata": {
        "id": "d97f441b-e6f8-4c6e-9234-01a204b508b6",
        "outputId": "65fbe464-4574-4847-cbfa-a695d915bcd2",
        "colab": {
          "base_uri": "https://localhost:8080/",
          "height": 300
        }
      },
      "source": [
        "desc = df.describe()\n",
        "desc"
      ],
      "id": "d97f441b-e6f8-4c6e-9234-01a204b508b6",
      "execution_count": 42,
      "outputs": [
        {
          "output_type": "execute_result",
          "data": {
            "text/plain": [
              "              mpg         cyl        disp       weight         acc  \\\n",
              "count  398.000000  398.000000  398.000000   398.000000  398.000000   \n",
              "mean    23.514573    5.454774  193.425879  2970.424623   15.568090   \n",
              "std      7.815984    1.701004  104.269838   846.841774    2.757689   \n",
              "min      9.000000    3.000000   68.000000  1613.000000    8.000000   \n",
              "25%     17.500000    4.000000  104.250000  2223.750000   13.825000   \n",
              "50%     23.000000    4.000000  148.500000  2803.500000   15.500000   \n",
              "75%     29.000000    8.000000  262.000000  3608.000000   17.175000   \n",
              "max     46.600000    8.000000  455.000000  5140.000000   24.800000   \n",
              "\n",
              "             year      origin  \n",
              "count  398.000000  398.000000  \n",
              "mean    76.010050    1.572864  \n",
              "std      3.697627    0.802055  \n",
              "min     70.000000    1.000000  \n",
              "25%     73.000000    1.000000  \n",
              "50%     76.000000    1.000000  \n",
              "75%     79.000000    2.000000  \n",
              "max     82.000000    3.000000  "
            ],
            "text/html": [
              "\n",
              "  <div id=\"df-616cdbf3-3b17-40cd-9465-89ca824a3e39\">\n",
              "    <div class=\"colab-df-container\">\n",
              "      <div>\n",
              "<style scoped>\n",
              "    .dataframe tbody tr th:only-of-type {\n",
              "        vertical-align: middle;\n",
              "    }\n",
              "\n",
              "    .dataframe tbody tr th {\n",
              "        vertical-align: top;\n",
              "    }\n",
              "\n",
              "    .dataframe thead th {\n",
              "        text-align: right;\n",
              "    }\n",
              "</style>\n",
              "<table border=\"1\" class=\"dataframe\">\n",
              "  <thead>\n",
              "    <tr style=\"text-align: right;\">\n",
              "      <th></th>\n",
              "      <th>mpg</th>\n",
              "      <th>cyl</th>\n",
              "      <th>disp</th>\n",
              "      <th>weight</th>\n",
              "      <th>acc</th>\n",
              "      <th>year</th>\n",
              "      <th>origin</th>\n",
              "    </tr>\n",
              "  </thead>\n",
              "  <tbody>\n",
              "    <tr>\n",
              "      <th>count</th>\n",
              "      <td>398.000000</td>\n",
              "      <td>398.000000</td>\n",
              "      <td>398.000000</td>\n",
              "      <td>398.000000</td>\n",
              "      <td>398.000000</td>\n",
              "      <td>398.000000</td>\n",
              "      <td>398.000000</td>\n",
              "    </tr>\n",
              "    <tr>\n",
              "      <th>mean</th>\n",
              "      <td>23.514573</td>\n",
              "      <td>5.454774</td>\n",
              "      <td>193.425879</td>\n",
              "      <td>2970.424623</td>\n",
              "      <td>15.568090</td>\n",
              "      <td>76.010050</td>\n",
              "      <td>1.572864</td>\n",
              "    </tr>\n",
              "    <tr>\n",
              "      <th>std</th>\n",
              "      <td>7.815984</td>\n",
              "      <td>1.701004</td>\n",
              "      <td>104.269838</td>\n",
              "      <td>846.841774</td>\n",
              "      <td>2.757689</td>\n",
              "      <td>3.697627</td>\n",
              "      <td>0.802055</td>\n",
              "    </tr>\n",
              "    <tr>\n",
              "      <th>min</th>\n",
              "      <td>9.000000</td>\n",
              "      <td>3.000000</td>\n",
              "      <td>68.000000</td>\n",
              "      <td>1613.000000</td>\n",
              "      <td>8.000000</td>\n",
              "      <td>70.000000</td>\n",
              "      <td>1.000000</td>\n",
              "    </tr>\n",
              "    <tr>\n",
              "      <th>25%</th>\n",
              "      <td>17.500000</td>\n",
              "      <td>4.000000</td>\n",
              "      <td>104.250000</td>\n",
              "      <td>2223.750000</td>\n",
              "      <td>13.825000</td>\n",
              "      <td>73.000000</td>\n",
              "      <td>1.000000</td>\n",
              "    </tr>\n",
              "    <tr>\n",
              "      <th>50%</th>\n",
              "      <td>23.000000</td>\n",
              "      <td>4.000000</td>\n",
              "      <td>148.500000</td>\n",
              "      <td>2803.500000</td>\n",
              "      <td>15.500000</td>\n",
              "      <td>76.000000</td>\n",
              "      <td>1.000000</td>\n",
              "    </tr>\n",
              "    <tr>\n",
              "      <th>75%</th>\n",
              "      <td>29.000000</td>\n",
              "      <td>8.000000</td>\n",
              "      <td>262.000000</td>\n",
              "      <td>3608.000000</td>\n",
              "      <td>17.175000</td>\n",
              "      <td>79.000000</td>\n",
              "      <td>2.000000</td>\n",
              "    </tr>\n",
              "    <tr>\n",
              "      <th>max</th>\n",
              "      <td>46.600000</td>\n",
              "      <td>8.000000</td>\n",
              "      <td>455.000000</td>\n",
              "      <td>5140.000000</td>\n",
              "      <td>24.800000</td>\n",
              "      <td>82.000000</td>\n",
              "      <td>3.000000</td>\n",
              "    </tr>\n",
              "  </tbody>\n",
              "</table>\n",
              "</div>\n",
              "      <button class=\"colab-df-convert\" onclick=\"convertToInteractive('df-616cdbf3-3b17-40cd-9465-89ca824a3e39')\"\n",
              "              title=\"Convert this dataframe to an interactive table.\"\n",
              "              style=\"display:none;\">\n",
              "        \n",
              "  <svg xmlns=\"http://www.w3.org/2000/svg\" height=\"24px\"viewBox=\"0 0 24 24\"\n",
              "       width=\"24px\">\n",
              "    <path d=\"M0 0h24v24H0V0z\" fill=\"none\"/>\n",
              "    <path d=\"M18.56 5.44l.94 2.06.94-2.06 2.06-.94-2.06-.94-.94-2.06-.94 2.06-2.06.94zm-11 1L8.5 8.5l.94-2.06 2.06-.94-2.06-.94L8.5 2.5l-.94 2.06-2.06.94zm10 10l.94 2.06.94-2.06 2.06-.94-2.06-.94-.94-2.06-.94 2.06-2.06.94z\"/><path d=\"M17.41 7.96l-1.37-1.37c-.4-.4-.92-.59-1.43-.59-.52 0-1.04.2-1.43.59L10.3 9.45l-7.72 7.72c-.78.78-.78 2.05 0 2.83L4 21.41c.39.39.9.59 1.41.59.51 0 1.02-.2 1.41-.59l7.78-7.78 2.81-2.81c.8-.78.8-2.07 0-2.86zM5.41 20L4 18.59l7.72-7.72 1.47 1.35L5.41 20z\"/>\n",
              "  </svg>\n",
              "      </button>\n",
              "      \n",
              "  <style>\n",
              "    .colab-df-container {\n",
              "      display:flex;\n",
              "      flex-wrap:wrap;\n",
              "      gap: 12px;\n",
              "    }\n",
              "\n",
              "    .colab-df-convert {\n",
              "      background-color: #E8F0FE;\n",
              "      border: none;\n",
              "      border-radius: 50%;\n",
              "      cursor: pointer;\n",
              "      display: none;\n",
              "      fill: #1967D2;\n",
              "      height: 32px;\n",
              "      padding: 0 0 0 0;\n",
              "      width: 32px;\n",
              "    }\n",
              "\n",
              "    .colab-df-convert:hover {\n",
              "      background-color: #E2EBFA;\n",
              "      box-shadow: 0px 1px 2px rgba(60, 64, 67, 0.3), 0px 1px 3px 1px rgba(60, 64, 67, 0.15);\n",
              "      fill: #174EA6;\n",
              "    }\n",
              "\n",
              "    [theme=dark] .colab-df-convert {\n",
              "      background-color: #3B4455;\n",
              "      fill: #D2E3FC;\n",
              "    }\n",
              "\n",
              "    [theme=dark] .colab-df-convert:hover {\n",
              "      background-color: #434B5C;\n",
              "      box-shadow: 0px 1px 3px 1px rgba(0, 0, 0, 0.15);\n",
              "      filter: drop-shadow(0px 1px 2px rgba(0, 0, 0, 0.3));\n",
              "      fill: #FFFFFF;\n",
              "    }\n",
              "  </style>\n",
              "\n",
              "      <script>\n",
              "        const buttonEl =\n",
              "          document.querySelector('#df-616cdbf3-3b17-40cd-9465-89ca824a3e39 button.colab-df-convert');\n",
              "        buttonEl.style.display =\n",
              "          google.colab.kernel.accessAllowed ? 'block' : 'none';\n",
              "\n",
              "        async function convertToInteractive(key) {\n",
              "          const element = document.querySelector('#df-616cdbf3-3b17-40cd-9465-89ca824a3e39');\n",
              "          const dataTable =\n",
              "            await google.colab.kernel.invokeFunction('convertToInteractive',\n",
              "                                                     [key], {});\n",
              "          if (!dataTable) return;\n",
              "\n",
              "          const docLinkHtml = 'Like what you see? Visit the ' +\n",
              "            '<a target=\"_blank\" href=https://colab.research.google.com/notebooks/data_table.ipynb>data table notebook</a>'\n",
              "            + ' to learn more about interactive tables.';\n",
              "          element.innerHTML = '';\n",
              "          dataTable['output_type'] = 'display_data';\n",
              "          await google.colab.output.renderOutput(dataTable, element);\n",
              "          const docLink = document.createElement('div');\n",
              "          docLink.innerHTML = docLinkHtml;\n",
              "          element.appendChild(docLink);\n",
              "        }\n",
              "      </script>\n",
              "    </div>\n",
              "  </div>\n",
              "  "
            ]
          },
          "metadata": {},
          "execution_count": 42
        }
      ]
    },
    {
      "cell_type": "markdown",
      "metadata": {
        "id": "729ce8e8-227c-41d0-91d9-be2e80d5cd88"
      },
      "source": [
        "## 8.3 Seleção das variáveis numéricas"
      ],
      "id": "729ce8e8-227c-41d0-91d9-be2e80d5cd88"
    },
    {
      "cell_type": "code",
      "metadata": {
        "id": "0adce80e-b0f9-4483-943c-62b5b6f8d317",
        "outputId": "71745075-9ec0-49ed-dacf-83c05e912081",
        "colab": {
          "base_uri": "https://localhost:8080/",
          "height": 206
        }
      },
      "source": [
        "num = df.select_dtypes(include = 'number')\n",
        "pd.DataFrame.head(num)"
      ],
      "id": "0adce80e-b0f9-4483-943c-62b5b6f8d317",
      "execution_count": 43,
      "outputs": [
        {
          "output_type": "execute_result",
          "data": {
            "text/plain": [
              "    mpg  cyl   disp  weight   acc  year  origin\n",
              "0  18.0    8  307.0  3504.0  12.0    70       1\n",
              "1  15.0    8  350.0  3693.0  11.5    70       1\n",
              "2  18.0    8  318.0  3436.0  11.0    70       1\n",
              "3  16.0    8  304.0  3433.0  12.0    70       1\n",
              "4  17.0    8  302.0  3449.0  10.5    70       1"
            ],
            "text/html": [
              "\n",
              "  <div id=\"df-a6217f36-b3ed-497a-8e40-57a690c8f1ca\">\n",
              "    <div class=\"colab-df-container\">\n",
              "      <div>\n",
              "<style scoped>\n",
              "    .dataframe tbody tr th:only-of-type {\n",
              "        vertical-align: middle;\n",
              "    }\n",
              "\n",
              "    .dataframe tbody tr th {\n",
              "        vertical-align: top;\n",
              "    }\n",
              "\n",
              "    .dataframe thead th {\n",
              "        text-align: right;\n",
              "    }\n",
              "</style>\n",
              "<table border=\"1\" class=\"dataframe\">\n",
              "  <thead>\n",
              "    <tr style=\"text-align: right;\">\n",
              "      <th></th>\n",
              "      <th>mpg</th>\n",
              "      <th>cyl</th>\n",
              "      <th>disp</th>\n",
              "      <th>weight</th>\n",
              "      <th>acc</th>\n",
              "      <th>year</th>\n",
              "      <th>origin</th>\n",
              "    </tr>\n",
              "  </thead>\n",
              "  <tbody>\n",
              "    <tr>\n",
              "      <th>0</th>\n",
              "      <td>18.0</td>\n",
              "      <td>8</td>\n",
              "      <td>307.0</td>\n",
              "      <td>3504.0</td>\n",
              "      <td>12.0</td>\n",
              "      <td>70</td>\n",
              "      <td>1</td>\n",
              "    </tr>\n",
              "    <tr>\n",
              "      <th>1</th>\n",
              "      <td>15.0</td>\n",
              "      <td>8</td>\n",
              "      <td>350.0</td>\n",
              "      <td>3693.0</td>\n",
              "      <td>11.5</td>\n",
              "      <td>70</td>\n",
              "      <td>1</td>\n",
              "    </tr>\n",
              "    <tr>\n",
              "      <th>2</th>\n",
              "      <td>18.0</td>\n",
              "      <td>8</td>\n",
              "      <td>318.0</td>\n",
              "      <td>3436.0</td>\n",
              "      <td>11.0</td>\n",
              "      <td>70</td>\n",
              "      <td>1</td>\n",
              "    </tr>\n",
              "    <tr>\n",
              "      <th>3</th>\n",
              "      <td>16.0</td>\n",
              "      <td>8</td>\n",
              "      <td>304.0</td>\n",
              "      <td>3433.0</td>\n",
              "      <td>12.0</td>\n",
              "      <td>70</td>\n",
              "      <td>1</td>\n",
              "    </tr>\n",
              "    <tr>\n",
              "      <th>4</th>\n",
              "      <td>17.0</td>\n",
              "      <td>8</td>\n",
              "      <td>302.0</td>\n",
              "      <td>3449.0</td>\n",
              "      <td>10.5</td>\n",
              "      <td>70</td>\n",
              "      <td>1</td>\n",
              "    </tr>\n",
              "  </tbody>\n",
              "</table>\n",
              "</div>\n",
              "      <button class=\"colab-df-convert\" onclick=\"convertToInteractive('df-a6217f36-b3ed-497a-8e40-57a690c8f1ca')\"\n",
              "              title=\"Convert this dataframe to an interactive table.\"\n",
              "              style=\"display:none;\">\n",
              "        \n",
              "  <svg xmlns=\"http://www.w3.org/2000/svg\" height=\"24px\"viewBox=\"0 0 24 24\"\n",
              "       width=\"24px\">\n",
              "    <path d=\"M0 0h24v24H0V0z\" fill=\"none\"/>\n",
              "    <path d=\"M18.56 5.44l.94 2.06.94-2.06 2.06-.94-2.06-.94-.94-2.06-.94 2.06-2.06.94zm-11 1L8.5 8.5l.94-2.06 2.06-.94-2.06-.94L8.5 2.5l-.94 2.06-2.06.94zm10 10l.94 2.06.94-2.06 2.06-.94-2.06-.94-.94-2.06-.94 2.06-2.06.94z\"/><path d=\"M17.41 7.96l-1.37-1.37c-.4-.4-.92-.59-1.43-.59-.52 0-1.04.2-1.43.59L10.3 9.45l-7.72 7.72c-.78.78-.78 2.05 0 2.83L4 21.41c.39.39.9.59 1.41.59.51 0 1.02-.2 1.41-.59l7.78-7.78 2.81-2.81c.8-.78.8-2.07 0-2.86zM5.41 20L4 18.59l7.72-7.72 1.47 1.35L5.41 20z\"/>\n",
              "  </svg>\n",
              "      </button>\n",
              "      \n",
              "  <style>\n",
              "    .colab-df-container {\n",
              "      display:flex;\n",
              "      flex-wrap:wrap;\n",
              "      gap: 12px;\n",
              "    }\n",
              "\n",
              "    .colab-df-convert {\n",
              "      background-color: #E8F0FE;\n",
              "      border: none;\n",
              "      border-radius: 50%;\n",
              "      cursor: pointer;\n",
              "      display: none;\n",
              "      fill: #1967D2;\n",
              "      height: 32px;\n",
              "      padding: 0 0 0 0;\n",
              "      width: 32px;\n",
              "    }\n",
              "\n",
              "    .colab-df-convert:hover {\n",
              "      background-color: #E2EBFA;\n",
              "      box-shadow: 0px 1px 2px rgba(60, 64, 67, 0.3), 0px 1px 3px 1px rgba(60, 64, 67, 0.15);\n",
              "      fill: #174EA6;\n",
              "    }\n",
              "\n",
              "    [theme=dark] .colab-df-convert {\n",
              "      background-color: #3B4455;\n",
              "      fill: #D2E3FC;\n",
              "    }\n",
              "\n",
              "    [theme=dark] .colab-df-convert:hover {\n",
              "      background-color: #434B5C;\n",
              "      box-shadow: 0px 1px 3px 1px rgba(0, 0, 0, 0.15);\n",
              "      filter: drop-shadow(0px 1px 2px rgba(0, 0, 0, 0.3));\n",
              "      fill: #FFFFFF;\n",
              "    }\n",
              "  </style>\n",
              "\n",
              "      <script>\n",
              "        const buttonEl =\n",
              "          document.querySelector('#df-a6217f36-b3ed-497a-8e40-57a690c8f1ca button.colab-df-convert');\n",
              "        buttonEl.style.display =\n",
              "          google.colab.kernel.accessAllowed ? 'block' : 'none';\n",
              "\n",
              "        async function convertToInteractive(key) {\n",
              "          const element = document.querySelector('#df-a6217f36-b3ed-497a-8e40-57a690c8f1ca');\n",
              "          const dataTable =\n",
              "            await google.colab.kernel.invokeFunction('convertToInteractive',\n",
              "                                                     [key], {});\n",
              "          if (!dataTable) return;\n",
              "\n",
              "          const docLinkHtml = 'Like what you see? Visit the ' +\n",
              "            '<a target=\"_blank\" href=https://colab.research.google.com/notebooks/data_table.ipynb>data table notebook</a>'\n",
              "            + ' to learn more about interactive tables.';\n",
              "          element.innerHTML = '';\n",
              "          dataTable['output_type'] = 'display_data';\n",
              "          await google.colab.output.renderOutput(dataTable, element);\n",
              "          const docLink = document.createElement('div');\n",
              "          docLink.innerHTML = docLinkHtml;\n",
              "          element.appendChild(docLink);\n",
              "        }\n",
              "      </script>\n",
              "    </div>\n",
              "  </div>\n",
              "  "
            ]
          },
          "metadata": {},
          "execution_count": 43
        }
      ]
    },
    {
      "cell_type": "code",
      "metadata": {
        "id": "14596480-6d58-49fc-bc47-e1fb4de3e00b",
        "outputId": "cca9efb7-5c90-42a5-8a98-38610cad323d",
        "colab": {
          "base_uri": "https://localhost:8080/",
          "height": 317
        }
      },
      "source": [
        "# Cria a figura e os subplots\n",
        "fig = plt.figure()\n",
        "plt.subplots_adjust(hspace = 0.3, wspace = 0.4)\n",
        "ax1 = fig.add_subplot(1, 2, 1)\n",
        "ax2 = fig.add_subplot(1, 2, 2)\n",
        "\n",
        "# Cria os gráficos de histograma e acerta os nomes dos eixos\n",
        "ax1.hist(num['year'], bins = 5)\n",
        "ax2.hist(num['origin'], bins = 5)\n"
      ],
      "id": "14596480-6d58-49fc-bc47-e1fb4de3e00b",
      "execution_count": 44,
      "outputs": [
        {
          "output_type": "execute_result",
          "data": {
            "text/plain": [
              "(array([249.,   0.,  70.,   0.,  79.]),\n",
              " array([1. , 1.4, 1.8, 2.2, 2.6, 3. ]),\n",
              " <a list of 5 Patch objects>)"
            ]
          },
          "metadata": {},
          "execution_count": 44
        },
        {
          "output_type": "display_data",
          "data": {
            "text/plain": [
              "<Figure size 432x288 with 2 Axes>"
            ],
            "image/png": "[encoded data removed]"
          },
          "metadata": {
            "needs_background": "light"
          }
        }
      ]
    },
    {
      "cell_type": "markdown",
      "metadata": {
        "id": "26982d5a-1265-4aef-9fff-21ae4e38fc18"
      },
      "source": [
        "## 8.4 Remover colunas 'year' e 'origin'"
      ],
      "id": "26982d5a-1265-4aef-9fff-21ae4e38fc18"
    },
    {
      "cell_type": "code",
      "metadata": {
        "id": "1ca6dfe9-5ba0-404d-bcc0-1d7a68e01cc7",
        "outputId": "dd5f93b0-01e5-4f97-e67b-8076d11f9829",
        "colab": {
          "base_uri": "https://localhost:8080/",
          "height": 206
        }
      },
      "source": [
        "numClean = num.drop(['year', 'origin'], axis = 1)\n",
        "numClean.head()"
      ],
      "id": "1ca6dfe9-5ba0-404d-bcc0-1d7a68e01cc7",
      "execution_count": 45,
      "outputs": [
        {
          "output_type": "execute_result",
          "data": {
            "text/plain": [
              "    mpg  cyl   disp  weight   acc\n",
              "0  18.0    8  307.0  3504.0  12.0\n",
              "1  15.0    8  350.0  3693.0  11.5\n",
              "2  18.0    8  318.0  3436.0  11.0\n",
              "3  16.0    8  304.0  3433.0  12.0\n",
              "4  17.0    8  302.0  3449.0  10.5"
            ],
            "text/html": [
              "\n",
              "  <div id=\"df-698d6a8c-835a-44ae-b294-2868dad4bf2f\">\n",
              "    <div class=\"colab-df-container\">\n",
              "      <div>\n",
              "<style scoped>\n",
              "    .dataframe tbody tr th:only-of-type {\n",
              "        vertical-align: middle;\n",
              "    }\n",
              "\n",
              "    .dataframe tbody tr th {\n",
              "        vertical-align: top;\n",
              "    }\n",
              "\n",
              "    .dataframe thead th {\n",
              "        text-align: right;\n",
              "    }\n",
              "</style>\n",
              "<table border=\"1\" class=\"dataframe\">\n",
              "  <thead>\n",
              "    <tr style=\"text-align: right;\">\n",
              "      <th></th>\n",
              "      <th>mpg</th>\n",
              "      <th>cyl</th>\n",
              "      <th>disp</th>\n",
              "      <th>weight</th>\n",
              "      <th>acc</th>\n",
              "    </tr>\n",
              "  </thead>\n",
              "  <tbody>\n",
              "    <tr>\n",
              "      <th>0</th>\n",
              "      <td>18.0</td>\n",
              "      <td>8</td>\n",
              "      <td>307.0</td>\n",
              "      <td>3504.0</td>\n",
              "      <td>12.0</td>\n",
              "    </tr>\n",
              "    <tr>\n",
              "      <th>1</th>\n",
              "      <td>15.0</td>\n",
              "      <td>8</td>\n",
              "      <td>350.0</td>\n",
              "      <td>3693.0</td>\n",
              "      <td>11.5</td>\n",
              "    </tr>\n",
              "    <tr>\n",
              "      <th>2</th>\n",
              "      <td>18.0</td>\n",
              "      <td>8</td>\n",
              "      <td>318.0</td>\n",
              "      <td>3436.0</td>\n",
              "      <td>11.0</td>\n",
              "    </tr>\n",
              "    <tr>\n",
              "      <th>3</th>\n",
              "      <td>16.0</td>\n",
              "      <td>8</td>\n",
              "      <td>304.0</td>\n",
              "      <td>3433.0</td>\n",
              "      <td>12.0</td>\n",
              "    </tr>\n",
              "    <tr>\n",
              "      <th>4</th>\n",
              "      <td>17.0</td>\n",
              "      <td>8</td>\n",
              "      <td>302.0</td>\n",
              "      <td>3449.0</td>\n",
              "      <td>10.5</td>\n",
              "    </tr>\n",
              "  </tbody>\n",
              "</table>\n",
              "</div>\n",
              "      <button class=\"colab-df-convert\" onclick=\"convertToInteractive('df-698d6a8c-835a-44ae-b294-2868dad4bf2f')\"\n",
              "              title=\"Convert this dataframe to an interactive table.\"\n",
              "              style=\"display:none;\">\n",
              "        \n",
              "  <svg xmlns=\"http://www.w3.org/2000/svg\" height=\"24px\"viewBox=\"0 0 24 24\"\n",
              "       width=\"24px\">\n",
              "    <path d=\"M0 0h24v24H0V0z\" fill=\"none\"/>\n",
              "    <path d=\"M18.56 5.44l.94 2.06.94-2.06 2.06-.94-2.06-.94-.94-2.06-.94 2.06-2.06.94zm-11 1L8.5 8.5l.94-2.06 2.06-.94-2.06-.94L8.5 2.5l-.94 2.06-2.06.94zm10 10l.94 2.06.94-2.06 2.06-.94-2.06-.94-.94-2.06-.94 2.06-2.06.94z\"/><path d=\"M17.41 7.96l-1.37-1.37c-.4-.4-.92-.59-1.43-.59-.52 0-1.04.2-1.43.59L10.3 9.45l-7.72 7.72c-.78.78-.78 2.05 0 2.83L4 21.41c.39.39.9.59 1.41.59.51 0 1.02-.2 1.41-.59l7.78-7.78 2.81-2.81c.8-.78.8-2.07 0-2.86zM5.41 20L4 18.59l7.72-7.72 1.47 1.35L5.41 20z\"/>\n",
              "  </svg>\n",
              "      </button>\n",
              "      \n",
              "  <style>\n",
              "    .colab-df-container {\n",
              "      display:flex;\n",
              "      flex-wrap:wrap;\n",
              "      gap: 12px;\n",
              "    }\n",
              "\n",
              "    .colab-df-convert {\n",
              "      background-color: #E8F0FE;\n",
              "      border: none;\n",
              "      border-radius: 50%;\n",
              "      cursor: pointer;\n",
              "      display: none;\n",
              "      fill: #1967D2;\n",
              "      height: 32px;\n",
              "      padding: 0 0 0 0;\n",
              "      width: 32px;\n",
              "    }\n",
              "\n",
              "    .colab-df-convert:hover {\n",
              "      background-color: #E2EBFA;\n",
              "      box-shadow: 0px 1px 2px rgba(60, 64, 67, 0.3), 0px 1px 3px 1px rgba(60, 64, 67, 0.15);\n",
              "      fill: #174EA6;\n",
              "    }\n",
              "\n",
              "    [theme=dark] .colab-df-convert {\n",
              "      background-color: #3B4455;\n",
              "      fill: #D2E3FC;\n",
              "    }\n",
              "\n",
              "    [theme=dark] .colab-df-convert:hover {\n",
              "      background-color: #434B5C;\n",
              "      box-shadow: 0px 1px 3px 1px rgba(0, 0, 0, 0.15);\n",
              "      filter: drop-shadow(0px 1px 2px rgba(0, 0, 0, 0.3));\n",
              "      fill: #FFFFFF;\n",
              "    }\n",
              "  </style>\n",
              "\n",
              "      <script>\n",
              "        const buttonEl =\n",
              "          document.querySelector('#df-698d6a8c-835a-44ae-b294-2868dad4bf2f button.colab-df-convert');\n",
              "        buttonEl.style.display =\n",
              "          google.colab.kernel.accessAllowed ? 'block' : 'none';\n",
              "\n",
              "        async function convertToInteractive(key) {\n",
              "          const element = document.querySelector('#df-698d6a8c-835a-44ae-b294-2868dad4bf2f');\n",
              "          const dataTable =\n",
              "            await google.colab.kernel.invokeFunction('convertToInteractive',\n",
              "                                                     [key], {});\n",
              "          if (!dataTable) return;\n",
              "\n",
              "          const docLinkHtml = 'Like what you see? Visit the ' +\n",
              "            '<a target=\"_blank\" href=https://colab.research.google.com/notebooks/data_table.ipynb>data table notebook</a>'\n",
              "            + ' to learn more about interactive tables.';\n",
              "          element.innerHTML = '';\n",
              "          dataTable['output_type'] = 'display_data';\n",
              "          await google.colab.output.renderOutput(dataTable, element);\n",
              "          const docLink = document.createElement('div');\n",
              "          docLink.innerHTML = docLinkHtml;\n",
              "          element.appendChild(docLink);\n",
              "        }\n",
              "      </script>\n",
              "    </div>\n",
              "  </div>\n",
              "  "
            ]
          },
          "metadata": {},
          "execution_count": 45
        }
      ]
    },
    {
      "cell_type": "markdown",
      "metadata": {
        "id": "01c492cf-3d86-47e0-9c74-b633b0d2c2ef"
      },
      "source": [
        "## 8.5 Correlação entre duas variáveis"
      ],
      "id": "01c492cf-3d86-47e0-9c74-b633b0d2c2ef"
    },
    {
      "cell_type": "code",
      "metadata": {
        "id": "fa1de632-2049-4f43-83f7-540ceff0f3f5"
      },
      "source": [
        "plt.close('all')"
      ],
      "id": "fa1de632-2049-4f43-83f7-540ceff0f3f5",
      "execution_count": 46,
      "outputs": []
    },
    {
      "cell_type": "code",
      "metadata": {
        "id": "7a3b00fa-a896-4854-a5fb-4d1a763d20e5",
        "outputId": "93c88ab1-8f37-4e39-af6c-8582852be1e5",
        "colab": {
          "base_uri": "https://localhost:8080/",
          "height": 296
        }
      },
      "source": [
        "fig = plt.figure()\n",
        "plt.scatter(numClean['weight'], numClean['disp'])\n",
        "plt.xlabel('Weight [lbs]')\n",
        "plt.ylabel('Displacement [m]')"
      ],
      "id": "7a3b00fa-a896-4854-a5fb-4d1a763d20e5",
      "execution_count": 47,
      "outputs": [
        {
          "output_type": "execute_result",
          "data": {
            "text/plain": [
              "Text(0, 0.5, 'Displacement [m]')"
            ]
          },
          "metadata": {},
          "execution_count": 47
        },
        {
          "output_type": "display_data",
          "data": {
            "text/plain": [
              "<Figure size 432x288 with 1 Axes>"
            ],
            "image/png": "[encoded data removed]"
          },
          "metadata": {
            "needs_background": "light"
          }
        }
      ]
    },
    {
      "cell_type": "code",
      "metadata": {
        "id": "76d83d71-dc02-418f-bfc4-5e819b6e408c",
        "outputId": "729c07a4-d569-4a10-d4bf-cfcdc620e468",
        "colab": {
          "base_uri": "https://localhost:8080/"
        }
      },
      "source": [
        "np.corrcoef(numClean['weight'], numClean['disp'])"
      ],
      "id": "76d83d71-dc02-418f-bfc4-5e819b6e408c",
      "execution_count": 48,
      "outputs": [
        {
          "output_type": "execute_result",
          "data": {
            "text/plain": [
              "array([[1.        , 0.93282415],\n",
              "       [0.93282415, 1.        ]])"
            ]
          },
          "metadata": {},
          "execution_count": 48
        }
      ]
    },
    {
      "cell_type": "code",
      "metadata": {
        "id": "c01b18a8-3c66-43d3-9193-0fbbe7ba6ff7",
        "outputId": "5ba02c23-ef85-47f7-f290-aeb8cd798b9d",
        "colab": {
          "base_uri": "https://localhost:8080/"
        }
      },
      "source": [
        "np.corrcoef(numClean['weight'], numClean['disp'])[0,1]"
      ],
      "id": "c01b18a8-3c66-43d3-9193-0fbbe7ba6ff7",
      "execution_count": 49,
      "outputs": [
        {
          "output_type": "execute_result",
          "data": {
            "text/plain": [
              "0.9328241468416342"
            ]
          },
          "metadata": {},
          "execution_count": 49
        }
      ]
    },
    {
      "cell_type": "markdown",
      "metadata": {
        "id": "965f54e3-704a-42b8-9944-d67c958fb8cb"
      },
      "source": [
        "## 8.6 Correlação entre várias variáveis"
      ],
      "id": "965f54e3-704a-42b8-9944-d67c958fb8cb"
    },
    {
      "cell_type": "code",
      "metadata": {
        "id": "c35383b2-1898-4eef-a64e-be38e2794b59",
        "outputId": "a17d1d6c-85e3-4457-f52f-a54e6388d50a",
        "colab": {
          "base_uri": "https://localhost:8080/",
          "height": 920
        }
      },
      "source": [
        "sns.pairplot(numClean)"
      ],
      "id": "c35383b2-1898-4eef-a64e-be38e2794b59",
      "execution_count": 50,
      "outputs": [
        {
          "output_type": "execute_result",
          "data": {
            "text/plain": [
              "<seaborn.axisgrid.PairGrid at 0x7f106dde64f0>"
            ]
          },
          "metadata": {},
          "execution_count": 50
        },
        {
          "output_type": "display_data",
          "data": {
            "text/plain": [
              "<Figure size 900x900 with 30 Axes>"
            ],
            "image/png": "[encoded data removed]"
          },
          "metadata": {
            "needs_background": "light"
          }
        }
      ]
    },
    {
      "cell_type": "code",
      "metadata": {
        "id": "739d5ae3-4135-4e06-aec1-16ab7135d6bc",
        "outputId": "34a9040f-c7dc-427d-98b4-2ba2d3633ccd",
        "colab": {
          "base_uri": "https://localhost:8080/",
          "height": 206
        }
      },
      "source": [
        "corrMatPd = numClean.corr()\n",
        "corrMatPd"
      ],
      "id": "739d5ae3-4135-4e06-aec1-16ab7135d6bc",
      "execution_count": 51,
      "outputs": [
        {
          "output_type": "execute_result",
          "data": {
            "text/plain": [
              "             mpg       cyl      disp    weight       acc\n",
              "mpg     1.000000 -0.775396 -0.804203 -0.831741  0.420289\n",
              "cyl    -0.775396  1.000000  0.950721  0.896017 -0.505419\n",
              "disp   -0.804203  0.950721  1.000000  0.932824 -0.543684\n",
              "weight -0.831741  0.896017  0.932824  1.000000 -0.417457\n",
              "acc     0.420289 -0.505419 -0.543684 -0.417457  1.000000"
            ],
            "text/html": [
              "\n",
              "  <div id=\"df-b84729a3-d4c8-4c60-9d0c-ab12ada0ba0a\">\n",
              "    <div class=\"colab-df-container\">\n",
              "      <div>\n",
              "<style scoped>\n",
              "    .dataframe tbody tr th:only-of-type {\n",
              "        vertical-align: middle;\n",
              "    }\n",
              "\n",
              "    .dataframe tbody tr th {\n",
              "        vertical-align: top;\n",
              "    }\n",
              "\n",
              "    .dataframe thead th {\n",
              "        text-align: right;\n",
              "    }\n",
              "</style>\n",
              "<table border=\"1\" class=\"dataframe\">\n",
              "  <thead>\n",
              "    <tr style=\"text-align: right;\">\n",
              "      <th></th>\n",
              "      <th>mpg</th>\n",
              "      <th>cyl</th>\n",
              "      <th>disp</th>\n",
              "      <th>weight</th>\n",
              "      <th>acc</th>\n",
              "    </tr>\n",
              "  </thead>\n",
              "  <tbody>\n",
              "    <tr>\n",
              "      <th>mpg</th>\n",
              "      <td>1.000000</td>\n",
              "      <td>-0.775396</td>\n",
              "      <td>-0.804203</td>\n",
              "      <td>-0.831741</td>\n",
              "      <td>0.420289</td>\n",
              "    </tr>\n",
              "    <tr>\n",
              "      <th>cyl</th>\n",
              "      <td>-0.775396</td>\n",
              "      <td>1.000000</td>\n",
              "      <td>0.950721</td>\n",
              "      <td>0.896017</td>\n",
              "      <td>-0.505419</td>\n",
              "    </tr>\n",
              "    <tr>\n",
              "      <th>disp</th>\n",
              "      <td>-0.804203</td>\n",
              "      <td>0.950721</td>\n",
              "      <td>1.000000</td>\n",
              "      <td>0.932824</td>\n",
              "      <td>-0.543684</td>\n",
              "    </tr>\n",
              "    <tr>\n",
              "      <th>weight</th>\n",
              "      <td>-0.831741</td>\n",
              "      <td>0.896017</td>\n",
              "      <td>0.932824</td>\n",
              "      <td>1.000000</td>\n",
              "      <td>-0.417457</td>\n",
              "    </tr>\n",
              "    <tr>\n",
              "      <th>acc</th>\n",
              "      <td>0.420289</td>\n",
              "      <td>-0.505419</td>\n",
              "      <td>-0.543684</td>\n",
              "      <td>-0.417457</td>\n",
              "      <td>1.000000</td>\n",
              "    </tr>\n",
              "  </tbody>\n",
              "</table>\n",
              "</div>\n",
              "      <button class=\"colab-df-convert\" onclick=\"convertToInteractive('df-b84729a3-d4c8-4c60-9d0c-ab12ada0ba0a')\"\n",
              "              title=\"Convert this dataframe to an interactive table.\"\n",
              "              style=\"display:none;\">\n",
              "        \n",
              "  <svg xmlns=\"http://www.w3.org/2000/svg\" height=\"24px\"viewBox=\"0 0 24 24\"\n",
              "       width=\"24px\">\n",
              "    <path d=\"M0 0h24v24H0V0z\" fill=\"none\"/>\n",
              "    <path d=\"M18.56 5.44l.94 2.06.94-2.06 2.06-.94-2.06-.94-.94-2.06-.94 2.06-2.06.94zm-11 1L8.5 8.5l.94-2.06 2.06-.94-2.06-.94L8.5 2.5l-.94 2.06-2.06.94zm10 10l.94 2.06.94-2.06 2.06-.94-2.06-.94-.94-2.06-.94 2.06-2.06.94z\"/><path d=\"M17.41 7.96l-1.37-1.37c-.4-.4-.92-.59-1.43-.59-.52 0-1.04.2-1.43.59L10.3 9.45l-7.72 7.72c-.78.78-.78 2.05 0 2.83L4 21.41c.39.39.9.59 1.41.59.51 0 1.02-.2 1.41-.59l7.78-7.78 2.81-2.81c.8-.78.8-2.07 0-2.86zM5.41 20L4 18.59l7.72-7.72 1.47 1.35L5.41 20z\"/>\n",
              "  </svg>\n",
              "      </button>\n",
              "      \n",
              "  <style>\n",
              "    .colab-df-container {\n",
              "      display:flex;\n",
              "      flex-wrap:wrap;\n",
              "      gap: 12px;\n",
              "    }\n",
              "\n",
              "    .colab-df-convert {\n",
              "      background-color: #E8F0FE;\n",
              "      border: none;\n",
              "      border-radius: 50%;\n",
              "      cursor: pointer;\n",
              "      display: none;\n",
              "      fill: #1967D2;\n",
              "      height: 32px;\n",
              "      padding: 0 0 0 0;\n",
              "      width: 32px;\n",
              "    }\n",
              "\n",
              "    .colab-df-convert:hover {\n",
              "      background-color: #E2EBFA;\n",
              "      box-shadow: 0px 1px 2px rgba(60, 64, 67, 0.3), 0px 1px 3px 1px rgba(60, 64, 67, 0.15);\n",
              "      fill: #174EA6;\n",
              "    }\n",
              "\n",
              "    [theme=dark] .colab-df-convert {\n",
              "      background-color: #3B4455;\n",
              "      fill: #D2E3FC;\n",
              "    }\n",
              "\n",
              "    [theme=dark] .colab-df-convert:hover {\n",
              "      background-color: #434B5C;\n",
              "      box-shadow: 0px 1px 3px 1px rgba(0, 0, 0, 0.15);\n",
              "      filter: drop-shadow(0px 1px 2px rgba(0, 0, 0, 0.3));\n",
              "      fill: #FFFFFF;\n",
              "    }\n",
              "  </style>\n",
              "\n",
              "      <script>\n",
              "        const buttonEl =\n",
              "          document.querySelector('#df-b84729a3-d4c8-4c60-9d0c-ab12ada0ba0a button.colab-df-convert');\n",
              "        buttonEl.style.display =\n",
              "          google.colab.kernel.accessAllowed ? 'block' : 'none';\n",
              "\n",
              "        async function convertToInteractive(key) {\n",
              "          const element = document.querySelector('#df-b84729a3-d4c8-4c60-9d0c-ab12ada0ba0a');\n",
              "          const dataTable =\n",
              "            await google.colab.kernel.invokeFunction('convertToInteractive',\n",
              "                                                     [key], {});\n",
              "          if (!dataTable) return;\n",
              "\n",
              "          const docLinkHtml = 'Like what you see? Visit the ' +\n",
              "            '<a target=\"_blank\" href=https://colab.research.google.com/notebooks/data_table.ipynb>data table notebook</a>'\n",
              "            + ' to learn more about interactive tables.';\n",
              "          element.innerHTML = '';\n",
              "          dataTable['output_type'] = 'display_data';\n",
              "          await google.colab.output.renderOutput(dataTable, element);\n",
              "          const docLink = document.createElement('div');\n",
              "          docLink.innerHTML = docLinkHtml;\n",
              "          element.appendChild(docLink);\n",
              "        }\n",
              "      </script>\n",
              "    </div>\n",
              "  </div>\n",
              "  "
            ]
          },
          "metadata": {},
          "execution_count": 51
        }
      ]
    }
  ]
}